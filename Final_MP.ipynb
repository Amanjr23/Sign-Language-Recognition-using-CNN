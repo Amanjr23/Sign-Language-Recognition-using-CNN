{
  "cells": [
    {
      "cell_type": "code",
      "execution_count": null,
      "metadata": {
        "colab": {
          "background_save": true
        },
        "id": "dlOWkxW93r9Z"
      },
      "outputs": [],
      "source": [
        "import numpy as np\n",
        "import pandas as pd\n",
        "import os\n",
        "import matplotlib.pyplot as plt\n",
        "import tensorflow as tf\n",
        "import cv2\n",
        "from tensorflow.keras.utils import to_categorical\n",
        "from tensorflow.keras.preprocessing.image import load_img, img_to_array\n",
        "from tensorflow.keras.preprocessing.image import ImageDataGenerator\n",
        "from sklearn.metrics import classification_report, log_loss, accuracy_score\n",
        "from sklearn.model_selection import train_test_split\n",
        "from tqdm import tqdm\n",
        "import random"
      ]
    },
    {
      "cell_type": "code",
      "execution_count": null,
      "metadata": {
        "colab": {
          "background_save": true
        },
        "id": "XnFQy1xR3vW4",
        "outputId": "8653a6f0-6bfd-4b1e-e452-7227dac1fe0e"
      },
      "outputs": [
        {
          "name": "stdout",
          "output_type": "stream",
          "text": [
            "Drive already mounted at /content/drive; to attempt to forcibly remount, call drive.mount(\"/content/drive\", force_remount=True).\n"
          ]
        }
      ],
      "source": [
        "from google.colab import drive\n",
        "drive.mount('/content/drive')"
      ]
    },
    {
      "cell_type": "code",
      "execution_count": null,
      "metadata": {
        "colab": {
          "background_save": true
        },
        "id": "ziDsw5Pv3vsP"
      },
      "outputs": [],
      "source": [
        "import os\n",
        "# Define the path to your dataset folder in Google Drive\n",
        "data_dir = '/content/drive/MyDrive/Gesture Image Data'"
      ]
    },
    {
      "cell_type": "code",
      "execution_count": null,
      "metadata": {
        "colab": {
          "background_save": true
        },
        "id": "ZfiR1jgj4QJL",
        "outputId": "5d8d6297-3f58-434e-8a6c-d493dd6a892e"
      },
      "outputs": [
        {
          "name": "stdout",
          "output_type": "stream",
          "text": [
            "['_', 'S', 'T', 'W', 'U', 'Y', 'V', 'X', 'R', 'Z', 'Q', 'P', 'F', 'H', 'G', 'L', 'N', 'M', 'K', 'I', 'O', 'J', 'E', 'D', '4', 'A', '6', '5', '8', '7', 'C', '9', 'B', '3', '2', '0', '1']\n"
          ]
        }
      ],
      "source": [
        "Name = os.listdir(data_dir)\n",
        "print(Name)"
      ]
    },
    {
      "cell_type": "code",
      "execution_count": null,
      "metadata": {
        "colab": {
          "background_save": true
        },
        "id": "xXpknKCd4QN3"
      },
      "outputs": [],
      "source": [
        "N=list(range(len(Name)))\n",
        "normal_mapping=dict(zip(Name,N))\n",
        "reverse_mapping=dict(zip(N,Name))"
      ]
    },
    {
      "cell_type": "code",
      "execution_count": null,
      "metadata": {
        "colab": {
          "background_save": true
        },
        "id": "aMF7yBra4msc",
        "outputId": "d20f76b3-f381-4c5e-e6b6-81af2d9ed006"
      },
      "outputs": [
        {
          "name": "stderr",
          "output_type": "stream",
          "text": [
            "100%|██████████| 37/37 [00:58<00:00,  1.59s/it]\n"
          ]
        }
      ],
      "source": [
        "dataset=[]\n",
        "dataname=[]\n",
        "count=0\n",
        "for name in tqdm(os.listdir(data_dir)):\n",
        "    path=os.path.join(data_dir,name)\n",
        "    for im in os.listdir(path):\n",
        "        image=cv2.imread(os.path.join(path,im))\n",
        "        dataset+=[image]\n",
        "        dataname+=[count]\n",
        "    count=count+1"
      ]
    },
    {
      "cell_type": "code",
      "execution_count": null,
      "metadata": {
        "colab": {
          "background_save": true
        },
        "id": "po_tkixq57Wp"
      },
      "outputs": [],
      "source": [
        "data=np.array(dataset)\n",
        "dataname=np.array(dataname)\n"
      ]
    },
    {
      "cell_type": "code",
      "execution_count": null,
      "metadata": {
        "colab": {
          "background_save": true
        },
        "id": "O093ZJtW4mwV",
        "outputId": "e237a0b4-5123-43af-d67f-8f5216c81d9c"
      },
      "outputs": [
        {
          "name": "stdout",
          "output_type": "stream",
          "text": [
            "21    292\n",
            "14    292\n",
            "18    200\n",
            "19    200\n",
            "22    200\n",
            "23    200\n",
            "24    200\n",
            "25    200\n",
            "26    200\n",
            "27    200\n",
            "28    200\n",
            "29    200\n",
            "30    200\n",
            "31    200\n",
            "32    200\n",
            "34    200\n",
            "35    200\n",
            "20    200\n",
            "36    200\n",
            "1     200\n",
            "17    200\n",
            "2     200\n",
            "3     200\n",
            "4     200\n",
            "5     200\n",
            "6     200\n",
            "7     200\n",
            "8     200\n",
            "9     200\n",
            "10    200\n",
            "11    200\n",
            "12    200\n",
            "13    200\n",
            "15    200\n",
            "16    200\n",
            "0     198\n",
            "33    176\n",
            "Name: count, dtype: int64\n"
          ]
        }
      ],
      "source": [
        "print(pd.Series(dataname).value_counts())"
      ]
    },
    {
      "cell_type": "code",
      "execution_count": null,
      "metadata": {
        "colab": {
          "background_save": true
        },
        "id": "eMiQKgMl6INq"
      },
      "outputs": [],
      "source": [
        "# Shuffling the data\n",
        "m=len(data)\n",
        "M=list(range(m))\n",
        "random.seed(2021)\n",
        "random.shuffle(M)"
      ]
    },
    {
      "cell_type": "code",
      "execution_count": null,
      "metadata": {
        "colab": {
          "background_save": true
        },
        "id": "NVV9j8hy6IW6"
      },
      "outputs": [],
      "source": [
        "# Splitting into train and test sets\n",
        "trainX=data[M[0:(m//4)*3]]\n",
        "trainY0=dataname[M[0:(m//4)*3]]\n",
        "\n",
        "testX=data[M[(m//4)*3:]]\n",
        "testY0=dataname[M[(m//4)*3:]]"
      ]
    },
    {
      "cell_type": "code",
      "execution_count": null,
      "metadata": {
        "colab": {
          "background_save": true
        },
        "id": "_4DxpWiY6O96"
      },
      "outputs": [],
      "source": [
        "# One-hot encoding labels\n",
        "labels1=to_categorical(trainY0)\n",
        "trainY=np.array(labels1)"
      ]
    },
    {
      "cell_type": "code",
      "execution_count": null,
      "metadata": {
        "colab": {
          "background_save": true
        },
        "id": "mmZ8p9pa6PA5"
      },
      "outputs": [],
      "source": [
        "# Further splitting train data into train and validation sets\n",
        "trainx,testx,trainy,testy=train_test_split(trainX,trainY,test_size=0.2,random_state=44)"
      ]
    },
    {
      "cell_type": "code",
      "execution_count": null,
      "metadata": {
        "colab": {
          "background_save": true
        },
        "id": "NzeKI0ev6PDo",
        "outputId": "5256a9e3-2d32-42ca-8b84-e17dc7de0b4a"
      },
      "outputs": [
        {
          "name": "stdout",
          "output_type": "stream",
          "text": [
            "(4533, 50, 50, 3)\n",
            "(1134, 50, 50, 3)\n",
            "(4533, 37)\n",
            "(1134, 37)\n"
          ]
        }
      ],
      "source": [
        "print(trainx.shape)\n",
        "print(testx.shape)\n",
        "print(trainy.shape)\n",
        "print(testy.shape)"
      ]
    },
    {
      "cell_type": "code",
      "execution_count": null,
      "metadata": {
        "colab": {
          "background_save": true
        },
        "id": "Q-Te5q_o6UFt"
      },
      "outputs": [],
      "source": [
        "# Image augmentation\n",
        "datagen = ImageDataGenerator(horizontal_flip=True,vertical_flip=True,rotation_range=20,zoom_range=0.2,\n",
        "                        width_shift_range=0.2,height_shift_range=0.2,shear_range=0.1,fill_mode=\"nearest\")"
      ]
    },
    {
      "cell_type": "code",
      "execution_count": null,
      "metadata": {
        "colab": {
          "background_save": true
        },
        "id": "HpkBnsbx6UJF"
      },
      "outputs": [],
      "source": [
        "# Load ResNet50 as the base model, exclude top layers, and use ImageNet weights\n",
        "pretrained_model3 = tf.keras.applications.ResNet50(input_shape=(50, 50, 3), include_top=False, weights='imagenet', pooling='avg')\n",
        "pretrained_model3.trainable = False  # Freeze the layers of ResNet"
      ]
    },
    {
      "cell_type": "code",
      "execution_count": null,
      "metadata": {
        "colab": {
          "background_save": true
        },
        "id": "5sBcJvxl6Zs0"
      },
      "outputs": [],
      "source": [
        "# Add custom layers on top of ResNet50\n",
        "inputs3 = pretrained_model3.input\n",
        "x3 = tf.keras.layers.Dense(128, activation='relu')(pretrained_model3.output)\n",
        "outputs3 = tf.keras.layers.Dense(len(Name), activation='softmax')(x3)\n",
        "model = tf.keras.Model(inputs=inputs3, outputs=outputs3)"
      ]
    },
    {
      "cell_type": "code",
      "execution_count": null,
      "metadata": {
        "colab": {
          "background_save": true
        },
        "id": "ngyffXMu6Zxq"
      },
      "outputs": [],
      "source": [
        "# Compile the model\n",
        "model.compile(optimizer='adam',loss='categorical_crossentropy',metrics=['accuracy'])"
      ]
    },
    {
      "cell_type": "code",
      "execution_count": null,
      "metadata": {
        "colab": {
          "background_save": true,
          "base_uri": "https://localhost:8080/"
        },
        "id": "-fdTDHkx6Z16",
        "outputId": "111520be-87d4-4c62-b679-7fde6343bdd5"
      },
      "outputs": [
        {
          "name": "stdout",
          "output_type": "stream",
          "text": [
            "Epoch 1/10\n"
          ]
        },
        {
          "name": "stderr",
          "output_type": "stream",
          "text": [
            "/usr/local/lib/python3.10/dist-packages/keras/src/trainers/data_adapters/py_dataset_adapter.py:121: UserWarning: Your `PyDataset` class should call `super().__init__(**kwargs)` in its constructor. `**kwargs` can include `workers`, `use_multiprocessing`, `max_queue_size`. Do not pass these arguments to `fit()`, as they will be ignored.\n",
            "  self._warn_if_super_not_called()\n"
          ]
        },
        {
          "name": "stdout",
          "output_type": "stream",
          "text": [
            "\u001b[1m142/142\u001b[0m \u001b[32m━━━━━━━━━━━━━━━━━━━━\u001b[0m\u001b[37m\u001b[0m \u001b[1m89s\u001b[0m 561ms/step - accuracy: 0.4495 - loss: 2.0368 - val_accuracy: 0.8774 - val_loss: 0.3678\n",
            "Epoch 2/10\n",
            "\u001b[1m142/142\u001b[0m \u001b[32m━━━━━━━━━━━━━━━━━━━━\u001b[0m\u001b[37m\u001b[0m \u001b[1m78s\u001b[0m 546ms/step - accuracy: 0.8390 - loss: 0.5142 - val_accuracy: 0.8624 - val_loss: 0.3726\n",
            "Epoch 3/10\n",
            "\u001b[1m142/142\u001b[0m \u001b[32m━━━━━━━━━━━━━━━━━━━━\u001b[0m\u001b[37m\u001b[0m \u001b[1m70s\u001b[0m 496ms/step - accuracy: 0.8836 - loss: 0.3557 - val_accuracy: 0.9312 - val_loss: 0.1846\n",
            "Epoch 4/10\n",
            "\u001b[1m142/142\u001b[0m \u001b[32m━━━━━━━━━━━━━━━━━━━━\u001b[0m\u001b[37m\u001b[0m \u001b[1m72s\u001b[0m 507ms/step - accuracy: 0.8930 - loss: 0.3378 - val_accuracy: 0.9727 - val_loss: 0.0832\n",
            "Epoch 5/10\n",
            "\u001b[1m142/142\u001b[0m \u001b[32m━━━━━━━━━━━━━━━━━━━━\u001b[0m\u001b[37m\u001b[0m \u001b[1m71s\u001b[0m 496ms/step - accuracy: 0.9231 - loss: 0.2549 - val_accuracy: 0.9612 - val_loss: 0.1082\n",
            "Epoch 6/10\n",
            "\u001b[1m142/142\u001b[0m \u001b[32m━━━━━━━━━━━━━━━━━━━━\u001b[0m\u001b[37m\u001b[0m \u001b[1m85s\u001b[0m 519ms/step - accuracy: 0.9316 - loss: 0.2317 - val_accuracy: 0.9242 - val_loss: 0.2598\n",
            "Epoch 7/10\n",
            "\u001b[1m142/142\u001b[0m \u001b[32m━━━━━━━━━━━━━━━━━━━━\u001b[0m\u001b[37m\u001b[0m \u001b[1m78s\u001b[0m 548ms/step - accuracy: 0.9321 - loss: 0.2200 - val_accuracy: 0.9735 - val_loss: 0.0931\n",
            "Epoch 8/10\n",
            "\u001b[1m142/142\u001b[0m \u001b[32m━━━━━━━━━━━━━━━━━━━━\u001b[0m\u001b[37m\u001b[0m \u001b[1m75s\u001b[0m 494ms/step - accuracy: 0.9523 - loss: 0.1376 - val_accuracy: 0.9436 - val_loss: 0.2127\n",
            "Epoch 9/10\n",
            "\u001b[1m142/142\u001b[0m \u001b[32m━━━━━━━━━━━━━━━━━━━━\u001b[0m\u001b[37m\u001b[0m \u001b[1m91s\u001b[0m 562ms/step - accuracy: 0.9489 - loss: 0.1696 - val_accuracy: 0.9718 - val_loss: 0.0747\n",
            "Epoch 10/10\n",
            "\u001b[1m142/142\u001b[0m \u001b[32m━━━━━━━━━━━━━━━━━━━━\u001b[0m\u001b[37m\u001b[0m \u001b[1m70s\u001b[0m 495ms/step - accuracy: 0.9393 - loss: 0.1719 - val_accuracy: 0.9859 - val_loss: 0.0419\n"
          ]
        }
      ],
      "source": [
        "# Train the model with data augmentation\n",
        "his = model.fit(datagen.flow(trainx, trainy, batch_size=32), # Remove target_size\n",
        "                validation_data=(testx, testy), epochs=10)"
      ]
    },
    {
      "cell_type": "code",
      "execution_count": null,
      "metadata": {
        "id": "ie383h4N-fCY"
      },
      "outputs": [],
      "source": [
        "# Make predictions on the test set\n",
        "y_pred = model.predict(testx)\n",
        "pred = np.argmax(y_pred, axis=1)\n",
        "ground = np.argmax(testy, axis=1)\n",
        "print(classification_report(ground, pred))"
      ]
    },
    {
      "cell_type": "code",
      "execution_count": null,
      "metadata": {
        "colab": {
          "background_save": true
        },
        "id": "MwW7jCZK-fls",
        "outputId": "963ef9f5-de0c-43b5-c0ad-6b577b0b0c70"
      },
      "outputs": [
        {
          "data": {
            "image/png": "[encoded data removed]",
            "text/plain": [
              "<Figure size 640x480 with 1 Axes>"
            ]
          },
          "metadata": {},
          "output_type": "display_data"
        },
        {
          "data": {
            "text/plain": [
              "<Figure size 640x480 with 0 Axes>"
            ]
          },
          "metadata": {},
          "output_type": "display_data"
        }
      ],
      "source": [
        "# Plotting training accuracy and validation accuracy\n",
        "get_acc = his.history['accuracy']\n",
        "value_acc = his.history['val_accuracy']\n",
        "get_loss = his.history['loss']\n",
        "validation_loss = his.history['val_loss']\n",
        "\n",
        "epochs = range(len(get_acc))\n",
        "plt.plot(epochs, get_acc, 'r', label='Accuracy of Training data')\n",
        "plt.plot(epochs, value_acc, 'b', label='Accuracy of Validation data')\n",
        "plt.title('Training vs validation accuracy')\n",
        "plt.legend(loc=0)\n",
        "plt.figure()\n",
        "plt.show()"
      ]
    },
    {
      "cell_type": "code",
      "execution_count": null,
      "metadata": {
        "id": "Zl9FqRJX_Mvm"
      },
      "outputs": [],
      "source": [
        "epochs = range(len(get_loss))\n",
        "plt.plot(epochs, get_loss, 'r', label='Loss of Training data')\n",
        "plt.plot(epochs, validation_loss, 'b', label='Loss of Validation data')\n",
        "plt.title('Training vs validation loss')\n",
        "plt.legend(loc=0)\n",
        "plt.figure()\n",
        "plt.show()"
      ]
    }
  ],
  "metadata": {
    "colab": {
      "provenance": []
    },
    "kernelspec": {
      "display_name": "Python 3",
      "name": "python3"
    },
    "language_info": {
      "name": "python"
    }
  },
  "nbformat": 4,
  "nbformat_minor": 0
}